{
 "cells": [
  {
   "cell_type": "markdown",
   "metadata": {},
   "source": [
    "### Using opencv pre-built libraries"
   ]
  },
  {
   "cell_type": "markdown",
   "metadata": {},
   "source": [
    "**Label Images**"
   ]
  },
  {
   "cell_type": "code",
   "execution_count": 11,
   "metadata": {},
   "outputs": [
    {
     "name": "stdout",
     "output_type": "stream",
     "text": [
      "* mark rectangles with the left mouse button,\n",
      "* press 'c' to accept a selection,\n",
      "* press 'd' to delete the latest selection,\n",
      "* press 'n' to proceed with next image,\n",
      "* press 'esc' to stop.\n"
     ]
    }
   ],
   "source": [
    "!C:/Users/nghoa/Desktop/projects/object-detection/opencv/build/x64/vc15/bin/opencv_annotation.exe --annotations=dataset/sam.txt --images=dataset/samples"
   ]
  },
  {
   "cell_type": "markdown",
   "metadata": {},
   "source": [
    "```yaml\n",
    "--annotations: Define output file  \n",
    "--images: Define input images path\n",
    "```"
   ]
  },
  {
   "cell_type": "markdown",
   "metadata": {},
   "source": [
    "**Create samples**"
   ]
  },
  {
   "cell_type": "code",
   "execution_count": 14,
   "metadata": {},
   "outputs": [
    {
     "name": "stdout",
     "output_type": "stream",
     "text": [
      "Info file name: dataset/sam.txt\n",
      "Img file name: (NULL)\n",
      "Vec file name: dataset/sam.vec\n",
      "BG  file name: (NULL)\n",
      "Num: 1000\n",
      "BG color: 0\n",
      "BG threshold: 80\n",
      "Invert: FALSE\n",
      "Max intensity deviation: 40\n",
      "Max x angle: 1.1\n",
      "Max y angle: 1.1\n",
      "Max z angle: 0.5\n",
      "Show samples: FALSE\n",
      "Width: 24\n",
      "Height: 24\n",
      "Max Scale: -1\n",
      "RNG Seed: 12345\n",
      "Create training samples from images collection...\n",
      "Done. Created 4 samples\n"
     ]
    },
    {
     "name": "stderr",
     "output_type": "stream",
     "text": [
      "dataset/sam.txt(3) : parse error\n"
     ]
    }
   ],
   "source": [
    "!C:/Users/nghoa/Desktop/projects/object-detection/opencv/build/x64/vc15/bin/opencv_createsamples.exe -info dataset/sam.txt -w 24 -h 24 -num 1000 -vec dataset/sam.vec"
   ]
  },
  {
   "cell_type": "markdown",
   "metadata": {},
   "source": [
    "```yaml\n",
    "-info: Name of input source file  \n",
    "-w: Width (in pixels) of the output samples  \n",
    "-h: Height (in pixels) of the output samples  \n",
    "-num: Number of positive samples to generate  \n",
    "-vec: Name of the output file containing the positive samples for training\n",
    "```"
   ]
  },
  {
   "cell_type": "markdown",
   "metadata": {},
   "source": [
    "**Cascade Training**"
   ]
  },
  {
   "cell_type": "code",
   "execution_count": null,
   "metadata": {},
   "outputs": [],
   "source": [
    "!C:/Users/nghoa/Desktop/projects/object-detection/opencv/build/x64/vc15/bin/opencv_traincascade.exe -data dataset/cascade/ -vec sam.vec -bg neg.txt -numPos 200 -numNeg 100 -numStages 10 -w 24 -h 24"
   ]
  },
  {
   "cell_type": "markdown",
   "metadata": {},
   "source": [
    "```yaml\n",
    "-data: Where the trained classifier should be stored. This folder should be created manually beforehand  \n",
    "-vec: vec-file with positive samples (created by opencv_createsamples utility)  \n",
    "-bg: Background description file. This is the file containing the negative sample images  \n",
    "-numPos: Number of positive samples used in training for every classifier stage  \n",
    "-numNeg: Number of negative samples used in training for every classifier stage  \n",
    "-numStages: Number of cascade stages to be trained\n",
    "-w: Width of training samples (in pixels). Must have exactly the same value as used during training samples creation (opencv_createsamples utility)  \n",
    "-h: Height of training samples (in pixels). Must have exactly the same value as used during training samples creation (opencv_createsamples utility)\n",
    "```"
   ]
  }
 ],
 "metadata": {
  "kernelspec": {
   "display_name": "Python 3",
   "language": "python",
   "name": "python3"
  },
  "language_info": {
   "codemirror_mode": {
    "name": "ipython",
    "version": 3
   },
   "file_extension": ".py",
   "mimetype": "text/x-python",
   "name": "python",
   "nbconvert_exporter": "python",
   "pygments_lexer": "ipython3",
   "version": "3.11.9"
  }
 },
 "nbformat": 4,
 "nbformat_minor": 2
}
